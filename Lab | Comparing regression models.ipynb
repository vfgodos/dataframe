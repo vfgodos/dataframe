{
 "cells": [
  {
   "cell_type": "code",
   "execution_count": 1,
   "metadata": {},
   "outputs": [],
   "source": [
    "import pandas as pd\n",
    "import seaborn as sns\n",
    "import matplotlib.pyplot as plt\n",
    "import numpy as np\n",
    "%matplotlib inline"
   ]
  },
  {
   "cell_type": "code",
   "execution_count": 2,
   "metadata": {},
   "outputs": [],
   "source": [
    "customer_df = pd.read_csv('we_fn_use_c_marketing_customer_value_analysis.csv')\n",
    "customer_df = customer_df.rename(columns=str.lower)\n",
    "customer_df.columns = customer_df.columns.str.replace(' ','_')"
   ]
  },
  {
   "cell_type": "code",
   "execution_count": 3,
   "metadata": {},
   "outputs": [],
   "source": [
    "#I'll drop the customer column because it's an identifier\n",
    "customer_df = customer_df.drop(['customer'], axis=1)"
   ]
  },
  {
   "cell_type": "code",
   "execution_count": 4,
   "metadata": {},
   "outputs": [],
   "source": [
    "#I'm going to take the continious variables to remove their outliers\n",
    "def split(numericals):\n",
    "    for col in numericals:\n",
    "        if (numericals[col].nunique()/len(numericals)) > 0.01:\n",
    "            continuous_df[col] = numericals[col]\n",
    "        else: \n",
    "                discrete_df[col] = numericals[col]\n",
    "    return continuous_df, discrete_df\n",
    "\n",
    "numericals = customer_df.select_dtypes(np.number)\n",
    "continuous_df = pd.DataFrame()\n",
    "discrete_df = pd.DataFrame()\n",
    "continuous_df, discrete_df = split(numericals)"
   ]
  },
  {
   "cell_type": "code",
   "execution_count": 5,
   "metadata": {},
   "outputs": [
    {
     "name": "stderr",
     "output_type": "stream",
     "text": [
      "/Users/victor/opt/anaconda3/lib/python3.9/site-packages/seaborn/_decorators.py:36: FutureWarning: Pass the following variable as a keyword arg: x. From version 0.12, the only valid positional argument will be `data`, and passing other arguments without an explicit keyword will result in an error or misinterpretation.\n",
      "  warnings.warn(\n"
     ]
    },
    {
     "data": {
      "image/png": "[encoded data removed]",
      "text/plain": [
       "<Figure size 432x288 with 1 Axes>"
      ]
     },
     "metadata": {
      "needs_background": "light"
     },
     "output_type": "display_data"
    },
    {
     "name": "stderr",
     "output_type": "stream",
     "text": [
      "/Users/victor/opt/anaconda3/lib/python3.9/site-packages/seaborn/_decorators.py:36: FutureWarning: Pass the following variable as a keyword arg: x. From version 0.12, the only valid positional argument will be `data`, and passing other arguments without an explicit keyword will result in an error or misinterpretation.\n",
      "  warnings.warn(\n"
     ]
    },
    {
     "data": {
      "image/png": "[encoded data removed]",
      "text/plain": [
       "<Figure size 432x288 with 1 Axes>"
      ]
     },
     "metadata": {
      "needs_background": "light"
     },
     "output_type": "display_data"
    },
    {
     "name": "stderr",
     "output_type": "stream",
     "text": [
      "/Users/victor/opt/anaconda3/lib/python3.9/site-packages/seaborn/_decorators.py:36: FutureWarning: Pass the following variable as a keyword arg: x. From version 0.12, the only valid positional argument will be `data`, and passing other arguments without an explicit keyword will result in an error or misinterpretation.\n",
      "  warnings.warn(\n"
     ]
    },
    {
     "data": {
      "image/png": "[encoded data removed]",
      "text/plain": [
       "<Figure size 432x288 with 1 Axes>"
      ]
     },
     "metadata": {
      "needs_background": "light"
     },
     "output_type": "display_data"
    },
    {
     "name": "stderr",
     "output_type": "stream",
     "text": [
      "/Users/victor/opt/anaconda3/lib/python3.9/site-packages/seaborn/_decorators.py:36: FutureWarning: Pass the following variable as a keyword arg: x. From version 0.12, the only valid positional argument will be `data`, and passing other arguments without an explicit keyword will result in an error or misinterpretation.\n",
      "  warnings.warn(\n"
     ]
    },
    {
     "data": {
      "image/png": "[encoded data removed]",
      "text/plain": [
       "<Figure size 432x288 with 1 Axes>"
      ]
     },
     "metadata": {
      "needs_background": "light"
     },
     "output_type": "display_data"
    },
    {
     "name": "stderr",
     "output_type": "stream",
     "text": [
      "/Users/victor/opt/anaconda3/lib/python3.9/site-packages/seaborn/_decorators.py:36: FutureWarning: Pass the following variable as a keyword arg: x. From version 0.12, the only valid positional argument will be `data`, and passing other arguments without an explicit keyword will result in an error or misinterpretation.\n",
      "  warnings.warn(\n"
     ]
    },
    {
     "data": {
      "image/png": "[encoded data removed]",
      "text/plain": [
       "<Figure size 432x288 with 1 Axes>"
      ]
     },
     "metadata": {
      "needs_background": "light"
     },
     "output_type": "display_data"
    }
   ],
   "source": [
    "for col in continuous_df.columns:\n",
    "    sns.boxplot(continuous_df[col])\n",
    "    plt.show()"
   ]
  },
  {
   "cell_type": "code",
   "execution_count": 6,
   "metadata": {},
   "outputs": [],
   "source": [
    "#I can observe that there are outliers in three continuous variables:\n",
    "#customer_lifetime_value, monthly_premium_auto and total_claim_amount"
   ]
  },
  {
   "cell_type": "code",
   "execution_count": 7,
   "metadata": {},
   "outputs": [],
   "source": [
    "#I'll clean them with a logaritmic transformation"
   ]
  },
  {
   "cell_type": "code",
   "execution_count": 8,
   "metadata": {},
   "outputs": [],
   "source": [
    "def CleanOutliers(df, continuousCol):\n",
    "    for col in continuousCol:\n",
    "        iqr = np.nanpercentile(continuousCol[col],75) - np.nanpercentile(continuousCol[col],25)\n",
    "        upper_limit = np.nanpercentile(continuousCol[col],75) + 1.5*iqr\n",
    "        \n",
    "        df = df[df[col] <= upper_limit]\n",
    "    return df\n"
   ]
  },
  {
   "cell_type": "code",
   "execution_count": 9,
   "metadata": {},
   "outputs": [],
   "source": [
    "customer_df_copy = CleanOutliers(customer_df, continuous_df)"
   ]
  },
  {
   "cell_type": "code",
   "execution_count": 10,
   "metadata": {},
   "outputs": [],
   "source": [
    "#After eliminating the outliers, I'll split the data\n",
    "y = customer_df_copy['total_claim_amount']\n",
    "X = customer_df_copy.drop(['total_claim_amount'], axis=1)\n",
    "\n",
    "from sklearn.model_selection import train_test_split\n",
    "\n",
    "X_train, X_test, y_train, y_test = train_test_split(X, y, test_size=0.4, random_state=100)"
   ]
  },
  {
   "cell_type": "code",
   "execution_count": 11,
   "metadata": {},
   "outputs": [],
   "source": [
    "numericals_train = X_train.select_dtypes(np.number)\n",
    "numericals_test = X_test.select_dtypes(np.number)"
   ]
  },
  {
   "cell_type": "code",
   "execution_count": 12,
   "metadata": {},
   "outputs": [],
   "source": [
    "#I'm going to standarize the numerical variables\n",
    "from sklearn.preprocessing import StandardScaler\n",
    "\n",
    "transformer = StandardScaler().fit(numericals_train)\n",
    "numericals_train_standardized = transformer.transform(numericals_train)\n",
    "numericals_test_standardized = transformer.transform(numericals_test)"
   ]
  },
  {
   "cell_type": "code",
   "execution_count": 13,
   "metadata": {},
   "outputs": [],
   "source": [
    "categoricals_train= X_train.select_dtypes(object)\n",
    "categoricals_test= X_test.select_dtypes(object)"
   ]
  },
  {
   "cell_type": "code",
   "execution_count": 14,
   "metadata": {},
   "outputs": [],
   "source": [
    "#First, I'll use ordinal encoding for some of the columns"
   ]
  },
  {
   "cell_type": "code",
   "execution_count": 15,
   "metadata": {},
   "outputs": [],
   "source": [
    "categoricals_train_encoded = pd.DataFrame()\n",
    "categoricals_train_encoded['response'] = categoricals_train['response'].map({'Yes': 1, 'No': 0}).astype(int)\n",
    "categoricals_train_encoded['coverage'] = categoricals_train['coverage'].map({\"Basic\" : 0, \"Extended\" : 1, \"Premium\" : 2}).astype(int)\n",
    "categoricals_train_encoded['education'] = categoricals_train['education'].map({'Bachelor': 0, 'College': 1, 'High School or Below': 2, 'Master': 3, 'Doctor': 4}).astype(int)\n",
    "categoricals_train_encoded['employmentstatus'] = categoricals_train['employmentstatus'].map({'Employed': 0, 'Unemployed': 1, 'Medical Leave': 2, 'Disabled': 3, 'Retired': 4}).astype(int)\n",
    "categoricals_train_encoded['gender'] = categoricals_train['gender'].map({'F': 1, 'M': 0}).astype(int)\n",
    "categoricals_train_encoded['location_code'] = categoricals_train['location_code'].map({'Suburban': 0, 'Rural': 1, 'Urban': 2}).astype(int)\n",
    "categoricals_train_encoded['vehicle_size'] = categoricals_train['vehicle_size'].map({'Medsize': 0, 'Small': 1, 'Large': 2}).astype(int)\n",
    "categoricals_train = categoricals_train.drop(['response', 'coverage', 'education', 'employmentstatus', 'gender', 'location_code', 'vehicle_size' ], axis=1)"
   ]
  },
  {
   "cell_type": "code",
   "execution_count": 16,
   "metadata": {},
   "outputs": [],
   "source": [
    "categoricals_test_encoded = pd.DataFrame()\n",
    "categoricals_test_encoded['response'] = categoricals_test['response'].map({'Yes': 1, 'No': 0}).astype(int)\n",
    "categoricals_test_encoded['coverage'] = categoricals_test['coverage'].map({\"Basic\" : 0, \"Extended\" : 1, \"Premium\" : 2}).astype(int)\n",
    "categoricals_test_encoded['education'] = categoricals_test['education'].map({'Bachelor': 0, 'College': 1, 'High School or Below': 2, 'Master': 3, 'Doctor': 4}).astype(int)\n",
    "categoricals_test_encoded['employmentstatus'] = categoricals_test['employmentstatus'].map({'Employed': 0, 'Unemployed': 1, 'Medical Leave': 2, 'Disabled': 3, 'Retired': 4}).astype(int)\n",
    "categoricals_test_encoded['gender'] = categoricals_test['gender'].map({'F': 1, 'M': 0}).astype(int)\n",
    "categoricals_test_encoded['location_code'] = categoricals_test['location_code'].map({'Suburban': 0, 'Rural': 1, 'Urban': 2}).astype(int)\n",
    "categoricals_test_encoded['vehicle_size'] = categoricals_test['vehicle_size'].map({'Medsize': 0, 'Small': 1, 'Large': 2}).astype(int)\n",
    "categoricals_test = categoricals_test.drop(['response', 'coverage', 'education', 'employmentstatus', 'gender', 'location_code', 'vehicle_size' ], axis=1)"
   ]
  },
  {
   "cell_type": "code",
   "execution_count": 17,
   "metadata": {},
   "outputs": [],
   "source": [
    "#Now, I have to encode effective_to_date, I will split this column in three new columns\n",
    "#I searched for a function to do it and I found: .dt.strftime\n",
    "categoricals_train['effective_to_date'] = pd.to_datetime(categoricals_train['effective_to_date'])\n",
    "categoricals_train_encoded['month'] = categoricals_train['effective_to_date'].dt.strftime('%m').astype(int)\n",
    "categoricals_train_encoded['day'] = categoricals_train['effective_to_date'].dt.strftime('%d').astype(int)\n",
    "categoricals_train_encoded['year'] = categoricals_train['effective_to_date'].dt.strftime('%y').astype(int)\n",
    "categoricals_train = categoricals_train.drop(['effective_to_date'], axis=1)"
   ]
  },
  {
   "cell_type": "code",
   "execution_count": 18,
   "metadata": {},
   "outputs": [],
   "source": [
    "categoricals_test['effective_to_date'] = pd.to_datetime(categoricals_test['effective_to_date'])\n",
    "categoricals_test_encoded['month'] = categoricals_test['effective_to_date'].dt.strftime('%m').astype(int)\n",
    "categoricals_test_encoded['day'] = categoricals_test['effective_to_date'].dt.strftime('%d').astype(int)\n",
    "categoricals_test_encoded['year'] = categoricals_test['effective_to_date'].dt.strftime('%y').astype(int)\n",
    "categoricals_test = categoricals_test.drop(['effective_to_date'], axis=1)"
   ]
  },
  {
   "cell_type": "code",
   "execution_count": 19,
   "metadata": {},
   "outputs": [
    {
     "data": {
      "text/html": [
       "<div>\n",
       "<style scoped>\n",
       "    .dataframe tbody tr th:only-of-type {\n",
       "        vertical-align: middle;\n",
       "    }\n",
       "\n",
       "    .dataframe tbody tr th {\n",
       "        vertical-align: top;\n",
       "    }\n",
       "\n",
       "    .dataframe thead th {\n",
       "        text-align: right;\n",
       "    }\n",
       "</style>\n",
       "<table border=\"1\" class=\"dataframe\">\n",
       "  <thead>\n",
       "    <tr style=\"text-align: right;\">\n",
       "      <th></th>\n",
       "      <th>response</th>\n",
       "      <th>coverage</th>\n",
       "      <th>education</th>\n",
       "      <th>employmentstatus</th>\n",
       "      <th>gender</th>\n",
       "      <th>location_code</th>\n",
       "      <th>vehicle_size</th>\n",
       "      <th>month</th>\n",
       "      <th>day</th>\n",
       "      <th>year</th>\n",
       "    </tr>\n",
       "  </thead>\n",
       "  <tbody>\n",
       "    <tr>\n",
       "      <th>7043</th>\n",
       "      <td>0</td>\n",
       "      <td>0</td>\n",
       "      <td>2</td>\n",
       "      <td>3</td>\n",
       "      <td>0</td>\n",
       "      <td>0</td>\n",
       "      <td>0</td>\n",
       "      <td>1</td>\n",
       "      <td>19</td>\n",
       "      <td>11</td>\n",
       "    </tr>\n",
       "    <tr>\n",
       "      <th>1855</th>\n",
       "      <td>0</td>\n",
       "      <td>0</td>\n",
       "      <td>0</td>\n",
       "      <td>0</td>\n",
       "      <td>0</td>\n",
       "      <td>2</td>\n",
       "      <td>1</td>\n",
       "      <td>2</td>\n",
       "      <td>8</td>\n",
       "      <td>11</td>\n",
       "    </tr>\n",
       "    <tr>\n",
       "      <th>5219</th>\n",
       "      <td>0</td>\n",
       "      <td>0</td>\n",
       "      <td>1</td>\n",
       "      <td>1</td>\n",
       "      <td>0</td>\n",
       "      <td>0</td>\n",
       "      <td>0</td>\n",
       "      <td>2</td>\n",
       "      <td>27</td>\n",
       "      <td>11</td>\n",
       "    </tr>\n",
       "    <tr>\n",
       "      <th>821</th>\n",
       "      <td>0</td>\n",
       "      <td>1</td>\n",
       "      <td>2</td>\n",
       "      <td>0</td>\n",
       "      <td>1</td>\n",
       "      <td>0</td>\n",
       "      <td>0</td>\n",
       "      <td>1</td>\n",
       "      <td>29</td>\n",
       "      <td>11</td>\n",
       "    </tr>\n",
       "    <tr>\n",
       "      <th>2998</th>\n",
       "      <td>0</td>\n",
       "      <td>0</td>\n",
       "      <td>0</td>\n",
       "      <td>0</td>\n",
       "      <td>1</td>\n",
       "      <td>0</td>\n",
       "      <td>1</td>\n",
       "      <td>2</td>\n",
       "      <td>24</td>\n",
       "      <td>11</td>\n",
       "    </tr>\n",
       "  </tbody>\n",
       "</table>\n",
       "</div>"
      ],
      "text/plain": [
       "      response  coverage  education  employmentstatus  gender  location_code  \\\n",
       "7043         0         0          2                 3       0              0   \n",
       "1855         0         0          0                 0       0              2   \n",
       "5219         0         0          1                 1       0              0   \n",
       "821          0         1          2                 0       1              0   \n",
       "2998         0         0          0                 0       1              0   \n",
       "\n",
       "      vehicle_size  month  day  year  \n",
       "7043             0      1   19    11  \n",
       "1855             1      2    8    11  \n",
       "5219             0      2   27    11  \n",
       "821              0      1   29    11  \n",
       "2998             1      2   24    11  "
      ]
     },
     "execution_count": 19,
     "metadata": {},
     "output_type": "execute_result"
    }
   ],
   "source": [
    "categoricals_train_encoded.head()"
   ]
  },
  {
   "cell_type": "code",
   "execution_count": 20,
   "metadata": {},
   "outputs": [
    {
     "data": {
      "text/plain": [
       "response            int64\n",
       "coverage            int64\n",
       "education           int64\n",
       "employmentstatus    int64\n",
       "gender              int64\n",
       "location_code       int64\n",
       "vehicle_size        int64\n",
       "month               int64\n",
       "day                 int64\n",
       "year                int64\n",
       "dtype: object"
      ]
     },
     "execution_count": 20,
     "metadata": {},
     "output_type": "execute_result"
    }
   ],
   "source": [
    "categoricals_train_encoded.dtypes"
   ]
  },
  {
   "cell_type": "code",
   "execution_count": 21,
   "metadata": {},
   "outputs": [],
   "source": [
    "#I'll convert them to np to work with them in the next steps\n",
    "categoricals_train_encoded = categoricals_train_encoded.to_numpy(dtype='int')\n",
    "categoricals_test_encoded = categoricals_test_encoded.to_numpy(dtype='int')"
   ]
  },
  {
   "cell_type": "code",
   "execution_count": 22,
   "metadata": {},
   "outputs": [],
   "source": [
    "#Now, I'm goig to encode the others with the OHE\n",
    "from sklearn.preprocessing import OneHotEncoder\n",
    "\n",
    "encoder = OneHotEncoder(handle_unknown='error', drop='first').fit(categoricals_train)\n",
    "categoricals_train_encoded_OHE = encoder.transform(categoricals_train).toarray()\n",
    "categoricals_test_encoded_OHE = encoder.transform(categoricals_test).toarray()\n"
   ]
  },
  {
   "cell_type": "code",
   "execution_count": 23,
   "metadata": {},
   "outputs": [],
   "source": [
    "categoricals_train_encoded = np.concatenate((categoricals_train_encoded,categoricals_train_encoded_OHE),axis=1)\n",
    "categoricals_test_encoded = np.concatenate((categoricals_test_encoded,categoricals_test_encoded_OHE),axis=1)"
   ]
  },
  {
   "cell_type": "code",
   "execution_count": 24,
   "metadata": {},
   "outputs": [],
   "source": [
    "X_train = np.concatenate((numericals_train_standardized,categoricals_train_encoded),axis=1)\n",
    "X_test = np.concatenate((numericals_test_standardized,categoricals_test_encoded),axis=1)"
   ]
  },
  {
   "cell_type": "code",
   "execution_count": 25,
   "metadata": {},
   "outputs": [],
   "source": [
    "#I'll define a function to try LR and KNN\n",
    "from sklearn import linear_model\n",
    "from sklearn.neighbors import KNeighborsRegressor, KNeighborsClassifier\n",
    "\n",
    "def PredModels(X_train, y_train, X_test, y_test, n=5):\n",
    "    lm = linear_model.LinearRegression()\n",
    "    lm.fit(X_train,y_train)\n",
    "    \n",
    "    KNN = KNeighborsRegressor(n_neighbors=n)\n",
    "    KNN.fit(X_train, y_train)\n",
    "    \n",
    "    print(\"LR score:\", lm.score(X_test, y_test))\n",
    "    print(\"KNN score:\", KNN.score(X_test, y_test))"
   ]
  },
  {
   "cell_type": "code",
   "execution_count": 26,
   "metadata": {},
   "outputs": [
    {
     "name": "stdout",
     "output_type": "stream",
     "text": [
      "LR score: 0.4822791468514668\n",
      "KNN score: 0.439281499392293\n"
     ]
    }
   ],
   "source": [
    "PredModels(X_train, y_train, X_test, y_test)"
   ]
  },
  {
   "cell_type": "code",
   "execution_count": 27,
   "metadata": {},
   "outputs": [
    {
     "data": {
      "text/plain": [
       "[0.31409644764166544,\n",
       " 0.3937161839940456,\n",
       " 0.4318178418193136,\n",
       " 0.439281499392293,\n",
       " 0.44659136573926694,\n",
       " 0.45536831517586396,\n",
       " 0.45517352484883555,\n",
       " 0.4556195329371656,\n",
       " 0.4596851306539106,\n",
       " 0.4569818919398868,\n",
       " 0.45760545307299794,\n",
       " 0.45802942771723343,\n",
       " 0.45608844861274966]"
      ]
     },
     "execution_count": 27,
     "metadata": {},
     "output_type": "execute_result"
    }
   ],
   "source": [
    "#I'll try KNeighborsRegressor with different n of neighbors\n",
    "scores = []\n",
    "for k in range(2,15):\n",
    "    model = KNeighborsRegressor(n_neighbors=k)\n",
    "    model.fit(X_train, y_train)\n",
    "    scores.append(model.score(X_test, y_test))\n",
    "scores"
   ]
  },
  {
   "cell_type": "code",
   "execution_count": 28,
   "metadata": {},
   "outputs": [
    {
     "data": {
      "text/plain": [
       "Text(0, 0.5, 'Accuracy')"
      ]
     },
     "execution_count": 28,
     "metadata": {},
     "output_type": "execute_result"
    },
    {
     "data": {
      "image/png": "[encoded data removed]",
      "text/plain": [
       "<Figure size 720x432 with 1 Axes>"
      ]
     },
     "metadata": {
      "needs_background": "light"
     },
     "output_type": "display_data"
    }
   ],
   "source": [
    "plt.figure(figsize=(10,6))\n",
    "plt.plot(range(2,15),scores,color = 'blue', linestyle='dashed',\n",
    "         marker='o', markerfacecolor='red', markersize=10)\n",
    "plt.title('accuracy scores vs. K Value')\n",
    "plt.gca().invert_yaxis()\n",
    "plt.xlabel('K')\n",
    "plt.ylabel('Accuracy')"
   ]
  },
  {
   "cell_type": "code",
   "execution_count": 29,
   "metadata": {},
   "outputs": [],
   "source": [
    "#As I can see in the graph, the best option is using k=7\n",
    "#Score: 0.45536831517586396"
   ]
  },
  {
   "cell_type": "code",
   "execution_count": 30,
   "metadata": {},
   "outputs": [
    {
     "name": "stdout",
     "output_type": "stream",
     "text": [
      "KNN score: 0.47340152320943474\n"
     ]
    }
   ],
   "source": [
    "#I'll try with different weights\n",
    "KNN = KNeighborsRegressor(n_neighbors=7, weights='distance')\n",
    "KNN.fit(X_train, y_train)\n",
    "print(\"KNN score:\", KNN.score(X_test, y_test))"
   ]
  },
  {
   "cell_type": "code",
   "execution_count": 31,
   "metadata": {},
   "outputs": [],
   "source": [
    "# The score is better this time"
   ]
  },
  {
   "cell_type": "code",
   "execution_count": 38,
   "metadata": {},
   "outputs": [
    {
     "name": "stdout",
     "output_type": "stream",
     "text": [
      "MLPRegressor score: 0.8023690454524817\n"
     ]
    }
   ],
   "source": [
    "#I'm going to try the MLPRegressor\n",
    "#Help: https://python.hotexamples.com/es/examples/sklearn.neural_network/MLPRegressor/-/python-mlpregressor-class-examples.html\n",
    "from sklearn.neural_network import MLPRegressor\n",
    "\n",
    "clf = MLPRegressor(solver='lbfgs', hidden_layer_sizes=50, max_iter=10000,\n",
    "                       random_state=1)\n",
    "clf.fit(X_train, y_train)\n",
    "print(\"MLPRegressor score:\",clf.score(X_test, y_test))\n"
   ]
  },
  {
   "cell_type": "code",
   "execution_count": 39,
   "metadata": {},
   "outputs": [],
   "source": [
    "#I got the best score but i'm not sure how it works"
   ]
  }
 ],
 "metadata": {
  "kernelspec": {
   "display_name": "Python 3 (ipykernel)",
   "language": "python",
   "name": "python3"
  },
  "language_info": {
   "codemirror_mode": {
    "name": "ipython",
    "version": 3
   },
   "file_extension": ".py",
   "mimetype": "text/x-python",
   "name": "python",
   "nbconvert_exporter": "python",
   "pygments_lexer": "ipython3",
   "version": "3.9.7"
  }
 },
 "nbformat": 4,
 "nbformat_minor": 4
}
